{
 "cells": [
  {
   "cell_type": "markdown",
   "metadata": {
    "collapsed": true
   },
   "source": [
    "### 特征检测算法 \n",
    "1. Harris 检测角点\n",
    "2. SIFT 检测斑点\n",
    "3. SURF 检测斑点\n",
    "4. FAST 检测角点\n",
    "5. BRIEF 检测斑点\n",
    "6. ORB 代表带方向的FAST算法和具有旋转不变性的BRIEF算法\n"
   ]
  },
  {
   "cell_type": "markdown",
   "metadata": {},
   "source": [
    "### 特征匹配\n",
    "1. 暴力匹配\n",
    "2. FLANN匹配 "
   ]
  },
  {
   "cell_type": "code",
   "execution_count": null,
   "metadata": {},
   "outputs": [],
   "source": []
  }
 ],
 "metadata": {
  "kernelspec": {
   "display_name": "Python 2",
   "language": "python",
   "name": "python2"
  },
  "language_info": {
   "codemirror_mode": {
    "name": "ipython",
    "version": 2
   },
   "file_extension": ".py",
   "mimetype": "text/x-python",
   "name": "python",
   "nbconvert_exporter": "python",
   "pygments_lexer": "ipython2",
   "version": "2.7.6"
  }
 },
 "nbformat": 4,
 "nbformat_minor": 0
}
